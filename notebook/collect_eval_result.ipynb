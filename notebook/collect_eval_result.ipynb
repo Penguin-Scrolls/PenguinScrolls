{
 "cells": [
  {
   "cell_type": "code",
   "execution_count": 28,
   "id": "61def595-0fa9-4b6d-9f72-8e212f3b1341",
   "metadata": {},
   "outputs": [],
   "source": [
    "from functools import reduce\n",
    "from pathlib import Path\n",
    "\n",
    "import pandas as pd\n",
    "\n",
    "from penguinscrolls.util import get_penguin_dataset"
   ]
  },
  {
   "cell_type": "code",
   "execution_count": 3,
   "id": "5d830bbd-4fe6-417b-9af6-90f271bb3de6",
   "metadata": {},
   "outputs": [],
   "source": [
    "dataset = get_penguin_dataset()"
   ]
  },
  {
   "cell_type": "code",
   "execution_count": 4,
   "id": "b4361e9e-0dfb-4c2c-a9b1-aaa730c2a75d",
   "metadata": {},
   "outputs": [],
   "source": [
    "df = dataset.select_columns(\n",
    "    ['input_md5', 'dataset', 'split', 'token_count']\n",
    ").to_pandas()"
   ]
  },
  {
   "cell_type": "code",
   "execution_count": 29,
   "id": "b5d03b3b-77bf-4634-98b7-08f7c8343380",
   "metadata": {},
   "outputs": [],
   "source": [
    "eval_result_dir = './eval_result/' # evaluation result json files goes here"
   ]
  },
  {
   "cell_type": "code",
   "execution_count": 43,
   "id": "b8bc2b37-f13a-4c26-ac17-ba45418d3ec2",
   "metadata": {},
   "outputs": [],
   "source": [
    "data = {\n",
    "    p.stem:pd.read_json(p, lines=True) for p in Path(eval_result_dir).iterdir() if p.is_file() and p.suffix == '.json'\n",
    "}\n",
    "data = {\n",
    "    k:v[v.score.notnull()] for k,v in data.items()\n",
    "}\n",
    "common_keys = reduce(lambda acc, x: acc & x, map(set, map(set, [v.input_md5 for v in data.values()])))\n",
    "\n",
    "data = {k:v[v.input_md5.isin(common_keys)][['input_md5', 'score']].rename(\n",
    "    columns={'score': k}) for k,v in data.items()}"
   ]
  },
  {
   "cell_type": "code",
   "execution_count": 44,
   "id": "6a3783f7-6f81-42dc-818a-2fda08618331",
   "metadata": {},
   "outputs": [],
   "source": [
    "score_df = reduce(lambda acc,x: acc.merge(x, on='input_md5'), data.values())\n",
    "score_df = score_df.merge(df, on='input_md5')\n",
    "score_df['count'] = 1"
   ]
  },
  {
   "cell_type": "code",
   "execution_count": 45,
   "id": "d61e8cbb-c845-487b-a8c0-d0392806d34e",
   "metadata": {},
   "outputs": [
    {
     "data": {
      "text/html": [
       "<div>\n",
       "<style scoped>\n",
       "    .dataframe tbody tr th:only-of-type {\n",
       "        vertical-align: middle;\n",
       "    }\n",
       "\n",
       "    .dataframe tbody tr th {\n",
       "        vertical-align: top;\n",
       "    }\n",
       "\n",
       "    .dataframe thead th {\n",
       "        text-align: right;\n",
       "    }\n",
       "</style>\n",
       "<table border=\"1\" class=\"dataframe\">\n",
       "  <thead>\n",
       "    <tr style=\"text-align: right;\">\n",
       "      <th>dataset</th>\n",
       "      <th>事实抽取</th>\n",
       "      <th>信息定位</th>\n",
       "      <th>推理分析</th>\n",
       "      <th>推理计算</th>\n",
       "      <th>表格计算</th>\n",
       "    </tr>\n",
       "  </thead>\n",
       "  <tbody>\n",
       "    <tr>\n",
       "      <th>count</th>\n",
       "      <td>29</td>\n",
       "      <td>10</td>\n",
       "      <td>12</td>\n",
       "      <td>50</td>\n",
       "      <td>30</td>\n",
       "    </tr>\n",
       "  </tbody>\n",
       "</table>\n",
       "</div>"
      ],
      "text/plain": [
       "dataset  事实抽取  信息定位  推理分析  推理计算  表格计算\n",
       "count      29    10    12    50    30"
      ]
     },
     "execution_count": 45,
     "metadata": {},
     "output_type": "execute_result"
    }
   ],
   "source": [
    "score_df.groupby('dataset').agg({'count': 'count'}).T"
   ]
  },
  {
   "cell_type": "code",
   "execution_count": 46,
   "id": "b46856e1-8f1e-45ca-9ab7-757f45e7fe9e",
   "metadata": {},
   "outputs": [
    {
     "data": {
      "text/html": [
       "<div>\n",
       "<style scoped>\n",
       "    .dataframe tbody tr th:only-of-type {\n",
       "        vertical-align: middle;\n",
       "    }\n",
       "\n",
       "    .dataframe tbody tr th {\n",
       "        vertical-align: top;\n",
       "    }\n",
       "\n",
       "    .dataframe thead th {\n",
       "        text-align: right;\n",
       "    }\n",
       "</style>\n",
       "<table border=\"1\" class=\"dataframe\">\n",
       "  <thead>\n",
       "    <tr style=\"text-align: right;\">\n",
       "      <th>dataset</th>\n",
       "      <th>事实抽取</th>\n",
       "      <th>信息定位</th>\n",
       "      <th>推理分析</th>\n",
       "      <th>推理计算</th>\n",
       "      <th>表格计算</th>\n",
       "    </tr>\n",
       "  </thead>\n",
       "  <tbody>\n",
       "    <tr>\n",
       "      <th>model_1</th>\n",
       "      <td>0.758621</td>\n",
       "      <td>0.7</td>\n",
       "      <td>1.0</td>\n",
       "      <td>0.68</td>\n",
       "      <td>0.633333</td>\n",
       "    </tr>\n",
       "    <tr>\n",
       "      <th>model_2</th>\n",
       "      <td>0.758621</td>\n",
       "      <td>1.0</td>\n",
       "      <td>1.0</td>\n",
       "      <td>0.76</td>\n",
       "      <td>0.733333</td>\n",
       "    </tr>\n",
       "  </tbody>\n",
       "</table>\n",
       "</div>"
      ],
      "text/plain": [
       "dataset      事实抽取  信息定位  推理分析  推理计算      表格计算\n",
       "model_1  0.758621   0.7   1.0  0.68  0.633333\n",
       "model_2  0.758621   1.0   1.0  0.76  0.733333"
      ]
     },
     "execution_count": 46,
     "metadata": {},
     "output_type": "execute_result"
    }
   ],
   "source": [
    "score_df.groupby(['dataset']).agg({k:'mean' for k in data.keys()}).T"
   ]
  },
  {
   "cell_type": "code",
   "execution_count": 47,
   "id": "cfe012bc-7c84-4cd1-aa58-11f66a86ca13",
   "metadata": {},
   "outputs": [
    {
     "data": {
      "text/html": [
       "<div>\n",
       "<style scoped>\n",
       "    .dataframe tbody tr th:only-of-type {\n",
       "        vertical-align: middle;\n",
       "    }\n",
       "\n",
       "    .dataframe tbody tr th {\n",
       "        vertical-align: top;\n",
       "    }\n",
       "\n",
       "    .dataframe thead tr th {\n",
       "        text-align: left;\n",
       "    }\n",
       "</style>\n",
       "<table border=\"1\" class=\"dataframe\">\n",
       "  <thead>\n",
       "    <tr>\n",
       "      <th>dataset</th>\n",
       "      <th colspan=\"6\" halign=\"left\">事实抽取</th>\n",
       "      <th colspan=\"2\" halign=\"left\">信息定位</th>\n",
       "      <th colspan=\"3\" halign=\"left\">推理分析</th>\n",
       "      <th colspan=\"2\" halign=\"left\">推理计算</th>\n",
       "      <th colspan=\"2\" halign=\"left\">表格计算</th>\n",
       "    </tr>\n",
       "    <tr>\n",
       "      <th>split</th>\n",
       "      <th>内容抽取</th>\n",
       "      <th>列举</th>\n",
       "      <th>复杂指令</th>\n",
       "      <th>实体信息抽取</th>\n",
       "      <th>数值信息抽取</th>\n",
       "      <th>结构信息抽取</th>\n",
       "      <th>位置类</th>\n",
       "      <th>引用类</th>\n",
       "      <th>因果分析</th>\n",
       "      <th>对比分析</th>\n",
       "      <th>评价分析</th>\n",
       "      <th>对比排序</th>\n",
       "      <th>数值计算</th>\n",
       "      <th>查询类</th>\n",
       "      <th>比较类</th>\n",
       "    </tr>\n",
       "  </thead>\n",
       "  <tbody>\n",
       "    <tr>\n",
       "      <th>count</th>\n",
       "      <td>5</td>\n",
       "      <td>1</td>\n",
       "      <td>2</td>\n",
       "      <td>2</td>\n",
       "      <td>16</td>\n",
       "      <td>3</td>\n",
       "      <td>1</td>\n",
       "      <td>9</td>\n",
       "      <td>6</td>\n",
       "      <td>2</td>\n",
       "      <td>4</td>\n",
       "      <td>8</td>\n",
       "      <td>42</td>\n",
       "      <td>20</td>\n",
       "      <td>10</td>\n",
       "    </tr>\n",
       "  </tbody>\n",
       "</table>\n",
       "</div>"
      ],
      "text/plain": [
       "dataset 事实抽取                              信息定位     推理分析           推理计算       \\\n",
       "split   内容抽取 列举 复杂指令 实体信息抽取 数值信息抽取 结构信息抽取  位置类 引用类 因果分析 对比分析 评价分析 对比排序 数值计算   \n",
       "count      5  1    2      2     16      3    1   9    6    2    4    8   42   \n",
       "\n",
       "dataset 表格计算      \n",
       "split    查询类 比较类  \n",
       "count     20  10  "
      ]
     },
     "execution_count": 47,
     "metadata": {},
     "output_type": "execute_result"
    }
   ],
   "source": [
    "score_df.groupby(['dataset', 'split']).agg({'count': 'count'}).T"
   ]
  },
  {
   "cell_type": "code",
   "execution_count": 48,
   "id": "7569d047-9ec9-49f9-9b44-f6ee28100357",
   "metadata": {},
   "outputs": [
    {
     "data": {
      "text/html": [
       "<div>\n",
       "<style scoped>\n",
       "    .dataframe tbody tr th:only-of-type {\n",
       "        vertical-align: middle;\n",
       "    }\n",
       "\n",
       "    .dataframe tbody tr th {\n",
       "        vertical-align: top;\n",
       "    }\n",
       "\n",
       "    .dataframe thead tr th {\n",
       "        text-align: left;\n",
       "    }\n",
       "</style>\n",
       "<table border=\"1\" class=\"dataframe\">\n",
       "  <thead>\n",
       "    <tr>\n",
       "      <th>dataset</th>\n",
       "      <th colspan=\"6\" halign=\"left\">事实抽取</th>\n",
       "      <th colspan=\"2\" halign=\"left\">信息定位</th>\n",
       "      <th colspan=\"3\" halign=\"left\">推理分析</th>\n",
       "      <th colspan=\"2\" halign=\"left\">推理计算</th>\n",
       "      <th colspan=\"2\" halign=\"left\">表格计算</th>\n",
       "    </tr>\n",
       "    <tr>\n",
       "      <th>split</th>\n",
       "      <th>内容抽取</th>\n",
       "      <th>列举</th>\n",
       "      <th>复杂指令</th>\n",
       "      <th>实体信息抽取</th>\n",
       "      <th>数值信息抽取</th>\n",
       "      <th>结构信息抽取</th>\n",
       "      <th>位置类</th>\n",
       "      <th>引用类</th>\n",
       "      <th>因果分析</th>\n",
       "      <th>对比分析</th>\n",
       "      <th>评价分析</th>\n",
       "      <th>对比排序</th>\n",
       "      <th>数值计算</th>\n",
       "      <th>查询类</th>\n",
       "      <th>比较类</th>\n",
       "    </tr>\n",
       "  </thead>\n",
       "  <tbody>\n",
       "    <tr>\n",
       "      <th>model_1</th>\n",
       "      <td>1.0</td>\n",
       "      <td>1.0</td>\n",
       "      <td>0.5</td>\n",
       "      <td>1.0</td>\n",
       "      <td>0.6875</td>\n",
       "      <td>0.666667</td>\n",
       "      <td>0.0</td>\n",
       "      <td>0.777778</td>\n",
       "      <td>1.0</td>\n",
       "      <td>1.0</td>\n",
       "      <td>1.0</td>\n",
       "      <td>0.625</td>\n",
       "      <td>0.690476</td>\n",
       "      <td>0.65</td>\n",
       "      <td>0.6</td>\n",
       "    </tr>\n",
       "    <tr>\n",
       "      <th>model_2</th>\n",
       "      <td>1.0</td>\n",
       "      <td>1.0</td>\n",
       "      <td>0.5</td>\n",
       "      <td>1.0</td>\n",
       "      <td>0.7500</td>\n",
       "      <td>0.333333</td>\n",
       "      <td>1.0</td>\n",
       "      <td>1.000000</td>\n",
       "      <td>1.0</td>\n",
       "      <td>1.0</td>\n",
       "      <td>1.0</td>\n",
       "      <td>0.750</td>\n",
       "      <td>0.761905</td>\n",
       "      <td>0.75</td>\n",
       "      <td>0.7</td>\n",
       "    </tr>\n",
       "  </tbody>\n",
       "</table>\n",
       "</div>"
      ],
      "text/plain": [
       "dataset 事实抽取                                    信息定位           推理分析            \\\n",
       "split   内容抽取   列举 复杂指令 实体信息抽取  数值信息抽取    结构信息抽取  位置类       引用类 因果分析 对比分析 评价分析   \n",
       "model_1  1.0  1.0  0.5    1.0  0.6875  0.666667  0.0  0.777778  1.0  1.0  1.0   \n",
       "model_2  1.0  1.0  0.5    1.0  0.7500  0.333333  1.0  1.000000  1.0  1.0  1.0   \n",
       "\n",
       "dataset   推理计算            表格计算       \n",
       "split     对比排序      数值计算   查询类  比较类  \n",
       "model_1  0.625  0.690476  0.65  0.6  \n",
       "model_2  0.750  0.761905  0.75  0.7  "
      ]
     },
     "execution_count": 48,
     "metadata": {},
     "output_type": "execute_result"
    }
   ],
   "source": [
    "score_df.groupby(['dataset', 'split']).agg({k:'mean' for k in data.keys()}).T"
   ]
  }
 ],
 "metadata": {
  "kernelspec": {
   "display_name": "Python 3 (ipykernel)",
   "language": "python",
   "name": "python3"
  },
  "language_info": {
   "codemirror_mode": {
    "name": "ipython",
    "version": 3
   },
   "file_extension": ".py",
   "mimetype": "text/x-python",
   "name": "python",
   "nbconvert_exporter": "python",
   "pygments_lexer": "ipython3",
   "version": "3.11.8"
  },
  "widgets": {
   "application/vnd.jupyter.widget-state+json": {
    "state": {},
    "version_major": 2,
    "version_minor": 0
   }
  }
 },
 "nbformat": 4,
 "nbformat_minor": 5
}
